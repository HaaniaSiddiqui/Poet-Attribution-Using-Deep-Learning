{
  "nbformat": 4,
  "nbformat_minor": 0,
  "metadata": {
    "colab": {
      "provenance": [],
      "include_colab_link": true
    },
    "kernelspec": {
      "name": "python3",
      "display_name": "Python 3"
    },
    "language_info": {
      "name": "python"
    }
  },
  "cells": [
    {
      "cell_type": "markdown",
      "metadata": {
        "id": "view-in-github",
        "colab_type": "text"
      },
      "source": [
        "<a href=\"https://colab.research.google.com/github/HaaniaSiddiqui/Poet-Attribution-Using-Deep-Learning/blob/main/ML_models_Project.ipynb\" target=\"_parent\"><img src=\"https://colab.research.google.com/assets/colab-badge.svg\" alt=\"Open In Colab\"/></a>"
      ]
    },
    {
      "cell_type": "code",
      "execution_count": null,
      "metadata": {
        "id": "l5VfC4YsP-Xj"
      },
      "outputs": [],
      "source": [
        "import pandas as pd\n",
        "import numpy as np\n",
        "\n",
        "# Import Plotting Libararies\n",
        "import seaborn as sns\n",
        "import matplotlib.pyplot as plt\n",
        "\n",
        "# Import Data Preprocessing Libraries \n",
        "from sklearn.preprocessing import LabelEncoder\n",
        "from sklearn.model_selection import train_test_split\n",
        "from sklearn.feature_extraction.text import TfidfVectorizer\n",
        "\n",
        "# Machine Learning Models\n",
        "from sklearn import svm  \n",
        "from sklearn.naive_bayes import GaussianNB\n",
        "from sklearn.linear_model import LogisticRegression\n",
        "from sklearn.tree import DecisionTreeClassifier\n",
        "from sklearn.ensemble import RandomForestClassifier\n",
        "from sklearn.ensemble import GradientBoostingClassifier\n",
        "from sklearn.ensemble import AdaBoostClassifier\n",
        "import xgboost as xgb\n",
        "\n",
        "# Model Evaluation Libraries\n",
        "from sklearn.metrics import classification_report, confusion_matrix\n",
        "\n",
        "import tensorflow as tf\n",
        "import keras\n",
        "from tensorflow.keras import layers\n",
        "from tensorflow.keras import Sequential\n",
        "from tensorflow.keras.layers import Dense, Embedding, GlobalAveragePooling1D\n",
        "from tensorflow.keras.layers import TextVectorization"
      ]
    },
    {
      "cell_type": "code",
      "source": [
        "shayari = pd.read_csv(\"data3.txt\", encoding='utf-16', header=None, sep=',', names=['text','labels'])\n",
        "shayari.head()\n",
        "shayari['labels'].value_counts()"
      ],
      "metadata": {
        "colab": {
          "base_uri": "https://localhost:8080/"
        },
        "id": "QfNORgZnVS2S",
        "outputId": "7082fc5a-cde9-4e31-abcd-12141c27de01"
      },
      "execution_count": null,
      "outputs": [
        {
          "output_type": "execute_result",
          "data": {
            "text/plain": [
              "مير تقی میر         2971\n",
              "مرزا غالب           1934\n",
              "ریاضؔ خیرآبادی      1700\n",
              "نظیر اکبر آبادی     1643\n",
              "جون ایلیا           1470\n",
              "حیدر علی آتش        1330\n",
              "ظفر اقبال           1104\n",
              "احمد فراز            926\n",
              "سراج اورنگ آبادی     860\n",
              "علامہ اقبال          797\n",
              "قتیل شفائی           780\n",
              "پروین شاکر           593\n",
              "منیر نیازی           523\n",
              "فیض احمد فیض         504\n",
              "ندا فاضلی            474\n",
              "Name: labels, dtype: int64"
            ]
          },
          "metadata": {},
          "execution_count": 5
        }
      ]
    },
    {
      "cell_type": "code",
      "source": [
        "sns.countplot( x = 'labels', data = shayari );"
      ],
      "metadata": {
        "id": "G13-5mXOooyw",
        "colab": {
          "base_uri": "https://localhost:8080/",
          "height": 441
        },
        "outputId": "4063cd15-f5bc-45f2-d178-b0f9b3fd1ee3"
      },
      "execution_count": null,
      "outputs": [
        {
          "output_type": "stream",
          "name": "stderr",
          "text": [
            "/usr/local/lib/python3.7/dist-packages/matplotlib/backends/backend_agg.py:214: RuntimeWarning: Glyph 1729 missing from current font.\n",
            "  font.set_text(s, 0.0, flags=flags)\n",
            "/usr/local/lib/python3.7/dist-packages/matplotlib/backends/backend_agg.py:214: RuntimeWarning: Glyph 1556 missing from current font.\n",
            "  font.set_text(s, 0.0, flags=flags)\n",
            "/usr/local/lib/python3.7/dist-packages/matplotlib/backends/backend_agg.py:183: RuntimeWarning: Glyph 1729 missing from current font.\n",
            "  font.set_text(s, 0, flags=flags)\n",
            "/usr/local/lib/python3.7/dist-packages/matplotlib/backends/backend_agg.py:183: RuntimeWarning: Glyph 1556 missing from current font.\n",
            "  font.set_text(s, 0, flags=flags)\n"
          ]
        },
        {
          "output_type": "display_data",
          "data": {
            "text/plain": [
              "<Figure size 432x288 with 1 Axes>"
            ],
            "image/png": "[encoded data removed]"
          },
          "metadata": {
            "needs_background": "light"
          }
        }
      ]
    },
    {
      "cell_type": "code",
      "source": [
        "X_train, X_test, Y_train, Y_test = train_test_split(shayari['couplet'], shayari['label'], test_size = 0.20, random_state = 0)\n",
        "print('Shape of X_train', X_train.shape)\n",
        "print('Shape of X_test', X_test.shape)\n",
        "print('Shape of Y_train', Y_train.shape)\n",
        "print('Shape of Y_test', Y_test.shape)"
      ],
      "metadata": {
        "colab": {
          "base_uri": "https://localhost:8080/"
        },
        "id": "IrbMfn28r2iE",
        "outputId": "a6489592-b074-472c-f8a8-6b7b5a829010"
      },
      "execution_count": null,
      "outputs": [
        {
          "output_type": "stream",
          "name": "stdout",
          "text": [
            "Shape of X_train (14092,)\n",
            "Shape of X_test (3524,)\n",
            "Shape of Y_train (14092,)\n",
            "Shape of Y_test (3524,)\n"
          ]
        }
      ]
    },
    {
      "cell_type": "code",
      "source": [
        "max_feature_num = 500000\n",
        "vectorizer = TfidfVectorizer(max_features=max_feature_num)\n",
        "train_vecs = vectorizer.fit_transform(X_train)\n",
        "print(train_vecs[0])\n",
        "test_vecs = TfidfVectorizer(max_features=max_feature_num, vocabulary=vectorizer.vocabulary_).fit_transform(X_test)"
      ],
      "metadata": {
        "id": "do4seDEIsPZX",
        "colab": {
          "base_uri": "https://localhost:8080/"
        },
        "outputId": "d1872aa0-fede-4646-ffef-4335cc941775"
      },
      "execution_count": null,
      "outputs": [
        {
          "output_type": "stream",
          "name": "stdout",
          "text": [
            "  (0, 9331)\t0.2789911181905023\n",
            "  (0, 12173)\t0.09091511198044429\n",
            "  (0, 12185)\t0.23048913279168542\n",
            "  (0, 11181)\t0.370063424502795\n",
            "  (0, 11133)\t0.18392092463714604\n",
            "  (0, 9115)\t0.15010062099028068\n",
            "  (0, 8468)\t0.755413173283557\n",
            "  (0, 3232)\t0.2527458299283755\n",
            "  (0, 268)\t0.18149269967971152\n"
          ]
        }
      ]
    },
    {
      "cell_type": "code",
      "source": [
        "def SVM_classifier(train_vecs, Y_train, test_vecs, Y_test):\n",
        "    # Training\n",
        "    SVM = svm.LinearSVC(max_iter=100000)\n",
        "    SVM.fit(train_vecs, Y_train)\n",
        "\n",
        "    # Testing\n",
        "    test_predictionSVM = SVM.predict(test_vecs)\n",
        "    return classification_report(test_predictionSVM, Y_test), confusion_matrix(test_predictionSVM, Y_test)"
      ],
      "metadata": {
        "id": "eS_TJgyrsYAr"
      },
      "execution_count": null,
      "outputs": []
    },
    {
      "cell_type": "code",
      "source": [
        "def LR_classifier(train_vecs, Y_train, test_vecs, Y_test):\n",
        "    # Training\n",
        "    LR = LogisticRegression()\n",
        "    LR.fit(train_vecs, Y_train)\n",
        "\n",
        "    # testing\n",
        "    test_predictionLR = LR.predict(test_vecs)\n",
        "    return classification_report(test_predictionLR, Y_test) , confusion_matrix(test_predictionLR, Y_test)"
      ],
      "metadata": {
        "id": "gZVb13tHsbdy"
      },
      "execution_count": null,
      "outputs": []
    },
    {
      "cell_type": "code",
      "source": [
        "def DT_classifier(train_vecs, Y_train, test_vecs, Y_test):\n",
        "    # Training\n",
        "    DT = DecisionTreeClassifier(max_depth = 9, random_state = 23 )\n",
        "    DT.fit(train_vecs, Y_train)\n",
        "\n",
        "    # Testing\n",
        "    test_predictionDT = DT.predict(test_vecs)\n",
        "    return classification_report(test_predictionDT, Y_test), confusion_matrix(test_predictionDT, Y_test) "
      ],
      "metadata": {
        "id": "sF1ZA-i_siJd"
      },
      "execution_count": null,
      "outputs": []
    },
    {
      "cell_type": "code",
      "source": [
        "def XGB_classifier(train_vecs, Y_train, test_vecs, Y_test):\n",
        "    # Training\n",
        "    XGB = xgb.XGBClassifier(colsample_bytree = 0.2, learning_rate = 0.01, n_estimators = 100)\n",
        "    XGB.fit(train_vecs, Y_train)\n",
        "\n",
        "    # Testing\n",
        "    test_predictionXGB = XGB.predict(test_vecs)\n",
        "    return classification_report(test_predictionXGB, Y_test), confusion_matrix(test_predictionXGB, Y_test)  "
      ],
      "metadata": {
        "id": "z9vdqcVzsrBW"
      },
      "execution_count": null,
      "outputs": []
    },
    {
      "cell_type": "code",
      "source": [
        "def RF_classifier(train_vecs, Y_train, test_vecs, Y_test):\n",
        "    # Training\n",
        "    RF = RandomForestClassifier(n_estimators = 450, max_depth=9, random_state=43)\n",
        "    RF.fit(train_vecs, Y_train)\n",
        "\n",
        "    # Testing\n",
        "    test_predictionRF = RF.predict(test_vecs)\n",
        "    return classification_report(test_predictionRF, Y_test), confusion_matrix(test_predictionRF, Y_test)"
      ],
      "metadata": {
        "id": "LXnuRjgpsv65"
      },
      "execution_count": null,
      "outputs": []
    },
    {
      "cell_type": "code",
      "source": [
        "class_report , conf_matrix = SVM_classifier(train_vecs, Y_train, test_vecs, Y_test)\n",
        "print('Results of SVM Classifier on TF-IDF Vectorizer')\n",
        "print(class_report)\n",
        "print(conf_matrix)"
      ],
      "metadata": {
        "colab": {
          "base_uri": "https://localhost:8080/"
        },
        "id": "etdrKw6wsyLG",
        "outputId": "1900c0e4-c7db-4b6b-fcd0-3e31521d7dd3"
      },
      "execution_count": null,
      "outputs": [
        {
          "output_type": "stream",
          "name": "stdout",
          "text": [
            "Results of SVM Classifier on TF-IDF Vectorizer\n",
            "              precision    recall  f1-score   support\n",
            "\n",
            "           1       0.56      0.53      0.54       199\n",
            "           2       0.69      0.70      0.69       143\n",
            "           3       0.31      0.51      0.39        70\n",
            "           4       0.69      0.58      0.63       277\n",
            "           5       0.61      0.55      0.58       308\n",
            "           6       0.65      0.64      0.64       387\n",
            "           7       0.71      0.64      0.67       661\n",
            "           8       0.41      0.56      0.47        75\n",
            "           9       0.72      0.74      0.73       342\n",
            "          10       0.48      0.60      0.53        82\n",
            "          11       0.31      0.53      0.39        72\n",
            "          12       0.51      0.53      0.52       147\n",
            "          13       0.72      0.92      0.81       142\n",
            "          14       0.75      0.66      0.70       390\n",
            "          15       0.66      0.67      0.66       229\n",
            "\n",
            "    accuracy                           0.64      3524\n",
            "   macro avg       0.59      0.62      0.60      3524\n",
            "weighted avg       0.65      0.64      0.64      3524\n",
            "\n",
            "[[105   3   6   2  13  12  12   8   3   9   9   3   1   3  10]\n",
            " [  3 100   4   4   5  10   1   0   0   1   2   7   2   2   2]\n",
            " [  4   2  36   2   0   3   9   2   0   2   2   3   0   5   0]\n",
            " [  5   6   5 160   9  22  26   3  11   2   6   4   6   8   4]\n",
            " [ 10   1   6   3 169   6  19   8  10   9  19   9   3  13  23]\n",
            " [  6  10  12   8  12 246  44   2   9   3   3   5   9  13   5]\n",
            " [  6   9  17  23  26  45 422  12  34   2   7   8  20  20  10]\n",
            " [  4   1   2   1   3   2   4  42   1   1   5   3   0   3   3]\n",
            " [  5   3   2   8   5  10  29   3 254   1   3   5   2   9   3]\n",
            " [  4   0   3   0   6   2   1   6   2  49   4   1   0   1   3]\n",
            " [  5   2   0   2   4   0   1   5   3   3  38   6   0   0   3]\n",
            " [ 12   2   8   4   5   0   6   2   4   8   8  78   1   6   3]\n",
            " [  1   0   1   1   0   2   2   1   0   2   0   0 131   0   1]\n",
            " [  3   5  12  13  10  13  19   3  15   6   6  13   4 258  10]\n",
            " [ 15   1   3   1  10   4   2   5   6   4  12   8   2   3 153]]\n"
          ]
        }
      ]
    },
    {
      "cell_type": "code",
      "source": [
        "class_report , conf_matrix = LR_classifier(train_vecs, Y_train, test_vecs, Y_test)\n",
        "print('Results of Logistic Regression Classifier on TF-IDF Vectorizer')\n",
        "print(class_report)\n",
        "print(conf_matrix)"
      ],
      "metadata": {
        "colab": {
          "base_uri": "https://localhost:8080/"
        },
        "id": "xaT1MeYCs30u",
        "outputId": "5f6b8e44-956d-4185-a8df-6be8ff658fde"
      },
      "execution_count": null,
      "outputs": [
        {
          "output_type": "stream",
          "name": "stdout",
          "text": [
            "Results of Logistic Regression Classifier on TF-IDF Vectorizer\n",
            "              precision    recall  f1-score   support\n",
            "\n",
            "           1       0.48      0.59      0.53       153\n",
            "           2       0.51      0.85      0.64        87\n",
            "           3       0.15      0.82      0.26        22\n",
            "           4       0.66      0.55      0.60       274\n",
            "           5       0.60      0.48      0.53       350\n",
            "           6       0.67      0.62      0.65       410\n",
            "           7       0.80      0.53      0.64       899\n",
            "           8       0.24      0.89      0.37        27\n",
            "           9       0.68      0.68      0.68       351\n",
            "          10       0.31      0.78      0.45        41\n",
            "          11       0.23      0.65      0.34        43\n",
            "          12       0.35      0.63      0.45        84\n",
            "          13       0.67      0.99      0.80       122\n",
            "          14       0.75      0.59      0.66       434\n",
            "          15       0.61      0.62      0.61       227\n",
            "\n",
            "    accuracy                           0.60      3524\n",
            "   macro avg       0.51      0.69      0.55      3524\n",
            "weighted avg       0.67      0.60      0.62      3524\n",
            "\n",
            "[[ 91   3   6   0  10  10   5   5   2   4   3   5   0   3   6]\n",
            " [  1  74   2   0   1   3   0   0   0   1   1   3   1   0   0]\n",
            " [  1   0  18   0   0   0   1   0   0   0   1   0   0   1   0]\n",
            " [  3   7   5 152  13  18  19   5  16   2   8   8   8   7   3]\n",
            " [ 16   5  14   3 167   7  22  13  11  15  19  14   2  17  25]\n",
            " [  5  19  14  15  14 254  30   1  12   5   2   8  12  11   8]\n",
            " [ 24  22  21  38  39  55 478  24  54  15  28  16  25  34  26]\n",
            " [  0   0   0   0   1   0   0  24   0   0   2   0   0   0   0]\n",
            " [  8   2   8  11   5  13  22   9 239   4   4   7   3  10   6]\n",
            " [  1   1   2   0   2   0   0   2   0  32   0   0   0   0   1]\n",
            " [  2   0   1   1   2   0   0   1   1   0  28   5   0   0   2]\n",
            " [  9   0   4   0   0   0   2   0   1   4   5  53   1   2   3]\n",
            " [  0   0   0   1   0   0   0   0   0   0   0   0 121   0   0]\n",
            " [ 10   8  17   9  13  16  17   8  14  11   9  26   7 257  12]\n",
            " [ 17   4   5   2  10   1   1  10   2   9  14   8   1   2 141]]\n"
          ]
        },
        {
          "output_type": "stream",
          "name": "stderr",
          "text": [
            "/usr/local/lib/python3.7/dist-packages/sklearn/linear_model/_logistic.py:818: ConvergenceWarning: lbfgs failed to converge (status=1):\n",
            "STOP: TOTAL NO. of ITERATIONS REACHED LIMIT.\n",
            "\n",
            "Increase the number of iterations (max_iter) or scale the data as shown in:\n",
            "    https://scikit-learn.org/stable/modules/preprocessing.html\n",
            "Please also refer to the documentation for alternative solver options:\n",
            "    https://scikit-learn.org/stable/modules/linear_model.html#logistic-regression\n",
            "  extra_warning_msg=_LOGISTIC_SOLVER_CONVERGENCE_MSG,\n"
          ]
        }
      ]
    },
    {
      "cell_type": "code",
      "source": [
        "class_report , conf_matrix = DT_classifier(train_vecs, Y_train, test_vecs, Y_test)\n",
        "print('Results of Decision Tree Classifier on TF-IDF Vectorizer')\n",
        "print(class_report)\n",
        "print(conf_matrix)"
      ],
      "metadata": {
        "colab": {
          "base_uri": "https://localhost:8080/"
        },
        "id": "GuPNRcZBtCZ_",
        "outputId": "3f9fa4ef-0d03-4dbf-c817-132f0ad63a27"
      },
      "execution_count": null,
      "outputs": [
        {
          "output_type": "stream",
          "name": "stdout",
          "text": [
            "Results of Decision Tree Classifier on TF-IDF Vectorizer\n",
            "              precision    recall  f1-score   support\n",
            "\n",
            "           1       0.13      0.93      0.23        27\n",
            "           2       0.00      0.00      0.00         0\n",
            "           3       0.00      0.00      0.00         0\n",
            "           4       0.00      0.00      0.00         0\n",
            "           5       0.00      0.00      0.00         0\n",
            "           6       0.06      0.79      0.11        29\n",
            "           7       0.99      0.18      0.31      3251\n",
            "           8       0.12      1.00      0.21        12\n",
            "           9       0.15      1.00      0.26        53\n",
            "          10       0.00      0.00      0.00         2\n",
            "          11       0.00      0.00      0.00         1\n",
            "          12       0.00      0.00      0.00         0\n",
            "          13       0.49      1.00      0.66        89\n",
            "          14       0.08      1.00      0.15        27\n",
            "          15       0.14      1.00      0.25        33\n",
            "\n",
            "    accuracy                           0.24      3524\n",
            "   macro avg       0.14      0.46      0.15      3524\n",
            "weighted avg       0.94      0.24      0.31      3524\n",
            "\n",
            "[[ 25   0   1   0   0   0   0   0   0   0   0   0   0   0   1]\n",
            " [  0   0   0   0   0   0   0   0   0   0   0   0   0   0   0]\n",
            " [  0   0   0   0   0   0   0   0   0   0   0   0   0   0   0]\n",
            " [  0   0   0   0   0   0   0   0   0   0   0   0   0   0   0]\n",
            " [  0   0   0   0   0   0   0   0   0   0   0   0   0   0   0]\n",
            " [  1   0   0   0   1  23   0   1   0   1   0   1   0   1   0]\n",
            " [162 145 116 232 276 354 594  89 299 101 124 152  92 316 199]\n",
            " [  0   0   0   0   0   0   0  12   0   0   0   0   0   0   0]\n",
            " [  0   0   0   0   0   0   0   0  53   0   0   0   0   0   0]\n",
            " [  0   0   0   0   0   0   2   0   0   0   0   0   0   0   0]\n",
            " [  0   0   0   0   0   0   1   0   0   0   0   0   0   0   0]\n",
            " [  0   0   0   0   0   0   0   0   0   0   0   0   0   0   0]\n",
            " [  0   0   0   0   0   0   0   0   0   0   0   0  89   0   0]\n",
            " [  0   0   0   0   0   0   0   0   0   0   0   0   0  27   0]\n",
            " [  0   0   0   0   0   0   0   0   0   0   0   0   0   0  33]]\n"
          ]
        },
        {
          "output_type": "stream",
          "name": "stderr",
          "text": [
            "/usr/local/lib/python3.7/dist-packages/sklearn/metrics/_classification.py:1318: UndefinedMetricWarning: Recall and F-score are ill-defined and being set to 0.0 in labels with no true samples. Use `zero_division` parameter to control this behavior.\n",
            "  _warn_prf(average, modifier, msg_start, len(result))\n",
            "/usr/local/lib/python3.7/dist-packages/sklearn/metrics/_classification.py:1318: UndefinedMetricWarning: Recall and F-score are ill-defined and being set to 0.0 in labels with no true samples. Use `zero_division` parameter to control this behavior.\n",
            "  _warn_prf(average, modifier, msg_start, len(result))\n",
            "/usr/local/lib/python3.7/dist-packages/sklearn/metrics/_classification.py:1318: UndefinedMetricWarning: Recall and F-score are ill-defined and being set to 0.0 in labels with no true samples. Use `zero_division` parameter to control this behavior.\n",
            "  _warn_prf(average, modifier, msg_start, len(result))\n"
          ]
        }
      ]
    },
    {
      "cell_type": "code",
      "source": [
        "class_report , conf_matrix = XGB_classifier(train_vecs, Y_train, test_vecs, Y_test)\n",
        "print('Results of Xgboost Classifier on TF-IDF Vectorizer')\n",
        "print(class_report)\n",
        "print(conf_matrix)"
      ],
      "metadata": {
        "colab": {
          "base_uri": "https://localhost:8080/"
        },
        "id": "F2rasMQhtIJX",
        "outputId": "f5e3287d-5eda-472d-ed9a-e58b022bdf71"
      },
      "execution_count": null,
      "outputs": [
        {
          "output_type": "stream",
          "name": "stdout",
          "text": [
            "Results of Xgboost Classifier on TF-IDF Vectorizer\n",
            "              precision    recall  f1-score   support\n",
            "\n",
            "           1       0.15      0.80      0.25        35\n",
            "           2       0.19      0.93      0.32        30\n",
            "           3       0.07      0.80      0.13        10\n",
            "           4       0.14      0.52      0.22        61\n",
            "           5       0.20      0.33      0.25       168\n",
            "           6       0.28      0.63      0.39       166\n",
            "           7       0.91      0.21      0.34      2607\n",
            "           8       0.12      1.00      0.21        12\n",
            "           9       0.30      0.76      0.43       141\n",
            "          10       0.01      1.00      0.02         1\n",
            "          11       0.02      1.00      0.05         3\n",
            "          12       0.10      0.94      0.19        17\n",
            "          13       0.58      1.00      0.73       105\n",
            "          14       0.26      0.72      0.38       123\n",
            "          15       0.18      0.93      0.30        45\n",
            "\n",
            "    accuracy                           0.33      3524\n",
            "   macro avg       0.23      0.77      0.28      3524\n",
            "weighted avg       0.74      0.33      0.35      3524\n",
            "\n",
            "[[ 28   0   1   0   1   0   0   1   0   0   1   0   0   1   2]\n",
            " [  0  28   0   0   0   1   0   0   0   0   0   0   0   1   0]\n",
            " [  0   0   8   0   0   0   0   0   1   0   1   0   0   0   0]\n",
            " [  2   2   1  32   0   6   3   0   4   0   2   3   2   2   2]\n",
            " [  9   3   3   2  56   4  25   3   6   7  10   5   3  13  19]\n",
            " [  1   3   2   4   6 105  17   0  11   1   1   5   6   4   0]\n",
            " [145 106  98 186 202 251 544  83 221  87 104 121  63 231 165]\n",
            " [  0   0   0   0   0   0   0  12   0   0   0   0   0   0   0]\n",
            " [  1   1   1   2   8   5   3   1 107   3   0   2   1   4   2]\n",
            " [  0   0   0   0   0   0   0   0   0   1   0   0   0   0   0]\n",
            " [  0   0   0   0   0   0   0   0   0   0   3   0   0   0   0]\n",
            " [  0   0   0   0   0   0   0   0   0   1   0  16   0   0   0]\n",
            " [  0   0   0   0   0   0   0   0   0   0   0   0 105   0   0]\n",
            " [  2   1   3   6   3   5   5   2   2   2   1   1   1  88   1]\n",
            " [  0   1   0   0   1   0   0   0   0   0   1   0   0   0  42]]\n"
          ]
        }
      ]
    }
  ]
}